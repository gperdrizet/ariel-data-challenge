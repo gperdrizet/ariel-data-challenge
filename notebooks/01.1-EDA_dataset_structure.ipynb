{
 "cells": [
  {
   "cell_type": "markdown",
   "id": "f04eee75",
   "metadata": {},
   "source": [
    "# Dataset structure EDA\n",
    "\n",
    "```bash\n",
    "├── test/                             # One test planet, same structure as train\n",
    "├── train/                            # Generated plots and visualizations\n",
    "│   └── 1010375142                    # Planets - 1100 numbered directories\n",
    "│       ├── AIRS-CH0_calibration_0/   # Calibration data\n",
    "│       │   ├── dark.parquet          # Exposure with closed shutter\n",
    "│       │   ├── dead.parquet          # Dead or hot pixels\n",
    "│       │   ├── flat.parquet          # Uniform illuminated surface\n",
    "│       │   ├── linear_corr.parquet   # Correction for nonlinear response\n",
    "│       │   └── read.parquet          # Detector read noise\n",
    "│       │\n",
    "│       ├── FGS1_calibration_0/       # Same set of calibration files\n",
    "│       ├── AIRS-CH0_signal_0.parquet # Image data for observation 0\n",
    "│       └── FGS1_signal_0.parquet     # Image data for observation 0\n",
    "│\n",
    "├── adc_info.csv           # Gain & offset for ADC\n",
    "├── axis_info.parquet      # Instrument axis info\n",
    "├── sample_submission.csv  # Sample submission for one planet\n",
    "├── test_star_info.csv     # Star info for sample test system\n",
    "├── train_star_info.csv    # Star info for training systems\n",
    "├── train.csv              # True spectra \n",
    "└── wavelengths.csv        # Wavelength grid\n",
    "```"
   ]
  },
  {
   "cell_type": "markdown",
   "id": "57a8df37",
   "metadata": {},
   "source": [
    "## Notebook set-up"
   ]
  },
  {
   "cell_type": "code",
   "execution_count": 1,
   "id": "017e2101",
   "metadata": {},
   "outputs": [
    {
     "name": "stdout",
     "output_type": "stream",
     "text": [
      "Working directory: /mnt/arkk/kaggle/ariel-data-challenge\n"
     ]
    }
   ],
   "source": [
    "# Set notebook root to project root\n",
    "from helper_functions import set_project_root\n",
    "\n",
    "set_project_root()\n",
    "\n",
    "# Standard library imports\n",
    "import glob\n",
    "import os\n",
    "import pickle\n",
    "\n",
    "# Third party imports\n",
    "import matplotlib.pyplot as plt\n",
    "import pandas as pd\n",
    "\n",
    "# Internal imports\n",
    "import configuration as config"
   ]
  },
  {
   "cell_type": "markdown",
   "id": "76660e89",
   "metadata": {},
   "source": [
    "## 1. Planets & observations"
   ]
  },
  {
   "cell_type": "code",
   "execution_count": 2,
   "id": "9c846128",
   "metadata": {},
   "outputs": [
    {
     "name": "stdout",
     "output_type": "stream",
     "text": [
      "Number of planets in training set: 1100\n"
     ]
    }
   ],
   "source": [
    "planets = os.listdir(f'{config.RAW_DATA_DIRECTORY}/train')\n",
    "num_planets = len(list(planets))\n",
    "print(f'Number of planets in training set: {num_planets}')"
   ]
  },
  {
   "cell_type": "code",
   "execution_count": null,
   "id": "31b2a97d",
   "metadata": {},
   "outputs": [
    {
     "data": {
      "image/png": "[encoded data removed]",
      "text/plain": [
       "<Figure size 800x400 with 2 Axes>"
      ]
     },
     "metadata": {},
     "output_type": "display_data"
    }
   ],
   "source": [
    "airs_observation_counts = []\n",
    "fgs_observation_counts = []\n",
    "\n",
    "for planet in planets:\n",
    "    airs_observation_files = glob.glob(f'{config.RAW_DATA_DIRECTORY}/train/{planet}/AIRS-CH0_signal_*')\n",
    "    fgs_observation_files = glob.glob(f'{config.RAW_DATA_DIRECTORY}/train/{planet}/FGS1_signal_*')\n",
    "\n",
    "    airs_observation_count = len(airs_observation_files)\n",
    "    fgs_observation_count = len(fgs_observation_files)\n",
    "\n",
    "    if airs_observation_count != fgs_observation_count:\n",
    "        print(f'Planet {planet} has mismatched observation counts: AIRS={airs_observation_count}, FGS={fgs_observation_count}')\n",
    "\n",
    "    if airs_observation_count == 0:\n",
    "        print(f'Planet {planet} has zero AIRS-CH0 observations')\n",
    "\n",
    "    if fgs_observation_count == 0:\n",
    "        print(f'Planet {planet} has zero FGS1 observations')\n",
    "\n",
    "    airs_observation_counts.append(airs_observation_count)\n",
    "    fgs_observation_counts.append(fgs_observation_count)\n",
    "\n",
    "# Get unique observation counts and their frequencies for bar plots\n",
    "from collections import Counter\n",
    "\n",
    "airs_counts = Counter(airs_observation_counts)\n",
    "fgs_counts = Counter(fgs_observation_counts)\n",
    "\n",
    "fig, ax = plt.subplots(1, 2, figsize=(8, 4))\n",
    "\n",
    "fig.suptitle('Observation Counts per Planet')\n",
    "\n",
    "# Create bar plots instead of histograms\n",
    "airs_obs_nums = sorted(airs_counts.keys())\n",
    "airs_planet_counts = [airs_counts[obs] for obs in airs_obs_nums]\n",
    "\n",
    "ax[0].bar(airs_obs_nums, airs_planet_counts, color='black', width=0.6)\n",
    "ax[0].set_title('AIRS-CH0')\n",
    "ax[0].set_xlabel('Number of Observations')\n",
    "ax[0].set_ylabel('Number of Planets')\n",
    "ax[0].set_xticks(airs_obs_nums)\n",
    "\n",
    "fgs_obs_nums = sorted(fgs_counts.keys())\n",
    "fgs_planet_counts = [fgs_counts[obs] for obs in fgs_obs_nums]\n",
    "\n",
    "ax[1].bar(fgs_obs_nums, fgs_planet_counts, color='black', width=0.6)\n",
    "ax[1].set_title('FGS1')\n",
    "ax[1].set_xlabel('Number of Observations')\n",
    "ax[1].set_ylabel('Number of Planets')\n",
    "ax[1].set_xticks(fgs_obs_nums)\n",
    "\n",
    "fig.tight_layout()\n",
    "\n",
    "# Save the figure\n",
    "fig.savefig('figures/EDA/01.1-observations_per_planet.jpg', dpi=100, bbox_inches='tight')"
   ]
  },
  {
   "cell_type": "markdown",
   "id": "b9ec9f55",
   "metadata": {},
   "source": [
    "The training data contains 1100 planets. Most planets have one observation, but a few have two. There are no missing observations or mis-matches between AIRS-CH0 and FGS1 observation counts."
   ]
  },
  {
   "cell_type": "markdown",
   "id": "a0582e44",
   "metadata": {},
   "source": [
    "## 2. Stars"
   ]
  },
  {
   "cell_type": "code",
   "execution_count": 4,
   "id": "a67dadb4",
   "metadata": {},
   "outputs": [
    {
     "data": {
      "text/html": [
       "<div>\n",
       "<style scoped>\n",
       "    .dataframe tbody tr th:only-of-type {\n",
       "        vertical-align: middle;\n",
       "    }\n",
       "\n",
       "    .dataframe tbody tr th {\n",
       "        vertical-align: top;\n",
       "    }\n",
       "\n",
       "    .dataframe thead th {\n",
       "        text-align: right;\n",
       "    }\n",
       "</style>\n",
       "<table border=\"1\" class=\"dataframe\">\n",
       "  <thead>\n",
       "    <tr style=\"text-align: right;\">\n",
       "      <th></th>\n",
       "      <th>planet_id</th>\n",
       "      <th>Rs</th>\n",
       "      <th>Ms</th>\n",
       "      <th>Ts</th>\n",
       "      <th>Mp</th>\n",
       "      <th>e</th>\n",
       "      <th>P</th>\n",
       "      <th>sma</th>\n",
       "      <th>i</th>\n",
       "    </tr>\n",
       "  </thead>\n",
       "  <tbody>\n",
       "    <tr>\n",
       "      <th>0</th>\n",
       "      <td>34983</td>\n",
       "      <td>1.155435</td>\n",
       "      <td>1.062961</td>\n",
       "      <td>5577.006645</td>\n",
       "      <td>0.694946</td>\n",
       "      <td>0.0</td>\n",
       "      <td>3.305589</td>\n",
       "      <td>8.550786</td>\n",
       "      <td>89.150759</td>\n",
       "    </tr>\n",
       "    <tr>\n",
       "      <th>1</th>\n",
       "      <td>1873185</td>\n",
       "      <td>1.813230</td>\n",
       "      <td>1.370451</td>\n",
       "      <td>6216.229756</td>\n",
       "      <td>0.610845</td>\n",
       "      <td>0.0</td>\n",
       "      <td>6.352660</td>\n",
       "      <td>9.553384</td>\n",
       "      <td>88.701514</td>\n",
       "    </tr>\n",
       "    <tr>\n",
       "      <th>2</th>\n",
       "      <td>3849793</td>\n",
       "      <td>0.653807</td>\n",
       "      <td>0.667352</td>\n",
       "      <td>4968.477186</td>\n",
       "      <td>1.529200</td>\n",
       "      <td>0.0</td>\n",
       "      <td>5.522798</td>\n",
       "      <td>15.285661</td>\n",
       "      <td>89.134177</td>\n",
       "    </tr>\n",
       "    <tr>\n",
       "      <th>3</th>\n",
       "      <td>8456603</td>\n",
       "      <td>1.250623</td>\n",
       "      <td>1.162019</td>\n",
       "      <td>6023.702622</td>\n",
       "      <td>2.262107</td>\n",
       "      <td>0.0</td>\n",
       "      <td>7.541019</td>\n",
       "      <td>14.144310</td>\n",
       "      <td>87.178007</td>\n",
       "    </tr>\n",
       "    <tr>\n",
       "      <th>4</th>\n",
       "      <td>23615382</td>\n",
       "      <td>1.431492</td>\n",
       "      <td>1.306489</td>\n",
       "      <td>6128.061013</td>\n",
       "      <td>0.861299</td>\n",
       "      <td>0.0</td>\n",
       "      <td>4.368080</td>\n",
       "      <td>8.347654</td>\n",
       "      <td>90.000000</td>\n",
       "    </tr>\n",
       "  </tbody>\n",
       "</table>\n",
       "</div>"
      ],
      "text/plain": [
       "   planet_id        Rs        Ms           Ts        Mp    e         P  \\\n",
       "0      34983  1.155435  1.062961  5577.006645  0.694946  0.0  3.305589   \n",
       "1    1873185  1.813230  1.370451  6216.229756  0.610845  0.0  6.352660   \n",
       "2    3849793  0.653807  0.667352  4968.477186  1.529200  0.0  5.522798   \n",
       "3    8456603  1.250623  1.162019  6023.702622  2.262107  0.0  7.541019   \n",
       "4   23615382  1.431492  1.306489  6128.061013  0.861299  0.0  4.368080   \n",
       "\n",
       "         sma          i  \n",
       "0   8.550786  89.150759  \n",
       "1   9.553384  88.701514  \n",
       "2  15.285661  89.134177  \n",
       "3  14.144310  87.178007  \n",
       "4   8.347654  90.000000  "
      ]
     },
     "execution_count": 4,
     "metadata": {},
     "output_type": "execute_result"
    }
   ],
   "source": [
    "star_df = pd.read_csv(f'{config.RAW_DATA_DIRECTORY}/train_star_info.csv')\n",
    "star_df.head()"
   ]
  },
  {
   "cell_type": "code",
   "execution_count": 5,
   "id": "105a2a1b",
   "metadata": {},
   "outputs": [
    {
     "name": "stdout",
     "output_type": "stream",
     "text": [
      "<class 'pandas.core.frame.DataFrame'>\n",
      "RangeIndex: 1100 entries, 0 to 1099\n",
      "Data columns (total 9 columns):\n",
      " #   Column     Non-Null Count  Dtype  \n",
      "---  ------     --------------  -----  \n",
      " 0   planet_id  1100 non-null   int64  \n",
      " 1   Rs         1100 non-null   float64\n",
      " 2   Ms         1100 non-null   float64\n",
      " 3   Ts         1100 non-null   float64\n",
      " 4   Mp         1100 non-null   float64\n",
      " 5   e          1100 non-null   float64\n",
      " 6   P          1100 non-null   float64\n",
      " 7   sma        1100 non-null   float64\n",
      " 8   i          1100 non-null   float64\n",
      "dtypes: float64(8), int64(1)\n",
      "memory usage: 77.5 KB\n"
     ]
    }
   ],
   "source": [
    "star_df.info()"
   ]
  },
  {
   "cell_type": "markdown",
   "id": "ce8503b4",
   "metadata": {},
   "source": [
    "### Feature info\n",
    "\n",
    "- **planet_id**: Unique identifier for the star-planet system.\n",
    "- **Rs**: Stellar radius in solar radii (R☉).\n",
    "- **Ms**: Stellar mass in solar masses (M☉).\n",
    "- **Ts**: Stellar effective temperature in Kelvin.\n",
    "- **Mp**: Planetary mass in Jupiter masses (M⊕).\n",
    "- **e**: Orbital eccentricity (dimensionless).\n",
    "- **P**: Orbital period in days.\n",
    "- **sma**: Semi-major axis in stellar radii (Rs), showing the orbital distance relative to the stellar radii.\n",
    "- **i**: Orbital inclination in degrees.\n"
   ]
  },
  {
   "cell_type": "code",
   "execution_count": 6,
   "id": "fb0c68cd",
   "metadata": {},
   "outputs": [
    {
     "name": "stdout",
     "output_type": "stream",
     "text": [
      "Planets with missing star info: 0\n"
     ]
    }
   ],
   "source": [
    "missing_stars = 0\n",
    "\n",
    "for planet in planets:\n",
    "\n",
    "    if int(planet) not in star_df['planet_id'].values:\n",
    "        missing_stars += 1\n",
    "\n",
    "print(f'Planets with missing star info: {missing_stars}')"
   ]
  },
  {
   "cell_type": "markdown",
   "id": "00e2f587",
   "metadata": {},
   "source": [
    "There is information for 1100 stars in the training set, which matches the number of planets. There are no missing star entries."
   ]
  },
  {
   "cell_type": "markdown",
   "id": "cf83e8cd",
   "metadata": {},
   "source": [
    "## 3. Ground truth spectra"
   ]
  },
  {
   "cell_type": "code",
   "execution_count": 7,
   "id": "a6e614d8",
   "metadata": {},
   "outputs": [
    {
     "data": {
      "text/html": [
       "<div>\n",
       "<style scoped>\n",
       "    .dataframe tbody tr th:only-of-type {\n",
       "        vertical-align: middle;\n",
       "    }\n",
       "\n",
       "    .dataframe tbody tr th {\n",
       "        vertical-align: top;\n",
       "    }\n",
       "\n",
       "    .dataframe thead th {\n",
       "        text-align: right;\n",
       "    }\n",
       "</style>\n",
       "<table border=\"1\" class=\"dataframe\">\n",
       "  <thead>\n",
       "    <tr style=\"text-align: right;\">\n",
       "      <th></th>\n",
       "      <th>planet_id</th>\n",
       "      <th>wl_1</th>\n",
       "      <th>wl_2</th>\n",
       "      <th>wl_3</th>\n",
       "      <th>wl_4</th>\n",
       "      <th>wl_5</th>\n",
       "      <th>wl_6</th>\n",
       "      <th>wl_7</th>\n",
       "      <th>wl_8</th>\n",
       "      <th>wl_9</th>\n",
       "      <th>...</th>\n",
       "      <th>wl_274</th>\n",
       "      <th>wl_275</th>\n",
       "      <th>wl_276</th>\n",
       "      <th>wl_277</th>\n",
       "      <th>wl_278</th>\n",
       "      <th>wl_279</th>\n",
       "      <th>wl_280</th>\n",
       "      <th>wl_281</th>\n",
       "      <th>wl_282</th>\n",
       "      <th>wl_283</th>\n",
       "    </tr>\n",
       "  </thead>\n",
       "  <tbody>\n",
       "    <tr>\n",
       "      <th>0</th>\n",
       "      <td>34983</td>\n",
       "      <td>0.018291</td>\n",
       "      <td>0.018088</td>\n",
       "      <td>0.018087</td>\n",
       "      <td>0.018085</td>\n",
       "      <td>0.018084</td>\n",
       "      <td>0.018084</td>\n",
       "      <td>0.018084</td>\n",
       "      <td>0.018084</td>\n",
       "      <td>0.018085</td>\n",
       "      <td>...</td>\n",
       "      <td>0.018109</td>\n",
       "      <td>0.018112</td>\n",
       "      <td>0.018118</td>\n",
       "      <td>0.018123</td>\n",
       "      <td>0.018125</td>\n",
       "      <td>0.018127</td>\n",
       "      <td>0.018130</td>\n",
       "      <td>0.018134</td>\n",
       "      <td>0.018138</td>\n",
       "      <td>0.018142</td>\n",
       "    </tr>\n",
       "    <tr>\n",
       "      <th>1</th>\n",
       "      <td>1873185</td>\n",
       "      <td>0.006347</td>\n",
       "      <td>0.006343</td>\n",
       "      <td>0.006343</td>\n",
       "      <td>0.006343</td>\n",
       "      <td>0.006343</td>\n",
       "      <td>0.006343</td>\n",
       "      <td>0.006343</td>\n",
       "      <td>0.006342</td>\n",
       "      <td>0.006342</td>\n",
       "      <td>...</td>\n",
       "      <td>0.006340</td>\n",
       "      <td>0.006340</td>\n",
       "      <td>0.006339</td>\n",
       "      <td>0.006339</td>\n",
       "      <td>0.006339</td>\n",
       "      <td>0.006339</td>\n",
       "      <td>0.006339</td>\n",
       "      <td>0.006339</td>\n",
       "      <td>0.006339</td>\n",
       "      <td>0.006339</td>\n",
       "    </tr>\n",
       "    <tr>\n",
       "      <th>2</th>\n",
       "      <td>3849793</td>\n",
       "      <td>0.046061</td>\n",
       "      <td>0.046139</td>\n",
       "      <td>0.046130</td>\n",
       "      <td>0.046117</td>\n",
       "      <td>0.046107</td>\n",
       "      <td>0.046105</td>\n",
       "      <td>0.046109</td>\n",
       "      <td>0.046112</td>\n",
       "      <td>0.046111</td>\n",
       "      <td>...</td>\n",
       "      <td>0.046144</td>\n",
       "      <td>0.046133</td>\n",
       "      <td>0.046131</td>\n",
       "      <td>0.046138</td>\n",
       "      <td>0.046141</td>\n",
       "      <td>0.046147</td>\n",
       "      <td>0.046147</td>\n",
       "      <td>0.046139</td>\n",
       "      <td>0.046134</td>\n",
       "      <td>0.046133</td>\n",
       "    </tr>\n",
       "    <tr>\n",
       "      <th>3</th>\n",
       "      <td>8456603</td>\n",
       "      <td>0.015363</td>\n",
       "      <td>0.015387</td>\n",
       "      <td>0.015385</td>\n",
       "      <td>0.015385</td>\n",
       "      <td>0.015385</td>\n",
       "      <td>0.015385</td>\n",
       "      <td>0.015384</td>\n",
       "      <td>0.015383</td>\n",
       "      <td>0.015383</td>\n",
       "      <td>...</td>\n",
       "      <td>0.015471</td>\n",
       "      <td>0.015471</td>\n",
       "      <td>0.015467</td>\n",
       "      <td>0.015465</td>\n",
       "      <td>0.015465</td>\n",
       "      <td>0.015464</td>\n",
       "      <td>0.015461</td>\n",
       "      <td>0.015460</td>\n",
       "      <td>0.015460</td>\n",
       "      <td>0.015460</td>\n",
       "    </tr>\n",
       "    <tr>\n",
       "      <th>4</th>\n",
       "      <td>23615382</td>\n",
       "      <td>0.014474</td>\n",
       "      <td>0.014636</td>\n",
       "      <td>0.014628</td>\n",
       "      <td>0.014635</td>\n",
       "      <td>0.014643</td>\n",
       "      <td>0.014642</td>\n",
       "      <td>0.014637</td>\n",
       "      <td>0.014635</td>\n",
       "      <td>0.014639</td>\n",
       "      <td>...</td>\n",
       "      <td>0.014473</td>\n",
       "      <td>0.014467</td>\n",
       "      <td>0.014433</td>\n",
       "      <td>0.014426</td>\n",
       "      <td>0.014435</td>\n",
       "      <td>0.014422</td>\n",
       "      <td>0.014399</td>\n",
       "      <td>0.014429</td>\n",
       "      <td>0.014444</td>\n",
       "      <td>0.014418</td>\n",
       "    </tr>\n",
       "  </tbody>\n",
       "</table>\n",
       "<p>5 rows × 284 columns</p>\n",
       "</div>"
      ],
      "text/plain": [
       "   planet_id      wl_1      wl_2      wl_3      wl_4      wl_5      wl_6  \\\n",
       "0      34983  0.018291  0.018088  0.018087  0.018085  0.018084  0.018084   \n",
       "1    1873185  0.006347  0.006343  0.006343  0.006343  0.006343  0.006343   \n",
       "2    3849793  0.046061  0.046139  0.046130  0.046117  0.046107  0.046105   \n",
       "3    8456603  0.015363  0.015387  0.015385  0.015385  0.015385  0.015385   \n",
       "4   23615382  0.014474  0.014636  0.014628  0.014635  0.014643  0.014642   \n",
       "\n",
       "       wl_7      wl_8      wl_9  ...    wl_274    wl_275    wl_276    wl_277  \\\n",
       "0  0.018084  0.018084  0.018085  ...  0.018109  0.018112  0.018118  0.018123   \n",
       "1  0.006343  0.006342  0.006342  ...  0.006340  0.006340  0.006339  0.006339   \n",
       "2  0.046109  0.046112  0.046111  ...  0.046144  0.046133  0.046131  0.046138   \n",
       "3  0.015384  0.015383  0.015383  ...  0.015471  0.015471  0.015467  0.015465   \n",
       "4  0.014637  0.014635  0.014639  ...  0.014473  0.014467  0.014433  0.014426   \n",
       "\n",
       "     wl_278    wl_279    wl_280    wl_281    wl_282    wl_283  \n",
       "0  0.018125  0.018127  0.018130  0.018134  0.018138  0.018142  \n",
       "1  0.006339  0.006339  0.006339  0.006339  0.006339  0.006339  \n",
       "2  0.046141  0.046147  0.046147  0.046139  0.046134  0.046133  \n",
       "3  0.015465  0.015464  0.015461  0.015460  0.015460  0.015460  \n",
       "4  0.014435  0.014422  0.014399  0.014429  0.014444  0.014418  \n",
       "\n",
       "[5 rows x 284 columns]"
      ]
     },
     "execution_count": 7,
     "metadata": {},
     "output_type": "execute_result"
    }
   ],
   "source": [
    "spectra_df = pd.read_csv(f'{config.RAW_DATA_DIRECTORY}/train.csv')\n",
    "spectra_df.head()"
   ]
  },
  {
   "cell_type": "code",
   "execution_count": 8,
   "id": "84a64c6c",
   "metadata": {},
   "outputs": [
    {
     "name": "stdout",
     "output_type": "stream",
     "text": [
      "<class 'pandas.core.frame.DataFrame'>\n",
      "RangeIndex: 1100 entries, 0 to 1099\n",
      "Columns: 284 entries, planet_id to wl_283\n",
      "dtypes: float64(283), int64(1)\n",
      "memory usage: 2.4 MB\n"
     ]
    }
   ],
   "source": [
    "spectra_df.info()"
   ]
  },
  {
   "cell_type": "code",
   "execution_count": 9,
   "id": "ea8b1b76",
   "metadata": {},
   "outputs": [
    {
     "name": "stdout",
     "output_type": "stream",
     "text": [
      "Planets with missing spectra info: 0\n"
     ]
    }
   ],
   "source": [
    "missing_spectra = 0\n",
    "\n",
    "for planet in planets:\n",
    "\n",
    "    if int(planet) not in spectra_df['planet_id'].values:\n",
    "        missing_stars += 1\n",
    "\n",
    "print(f'Planets with missing spectra info: {missing_stars}')"
   ]
  },
  {
   "cell_type": "markdown",
   "id": "bde17d92",
   "metadata": {},
   "source": [
    "## 4. Wavelengths"
   ]
  },
  {
   "cell_type": "code",
   "execution_count": 10,
   "id": "d9b2f9bf",
   "metadata": {},
   "outputs": [
    {
     "data": {
      "text/html": [
       "<div>\n",
       "<style scoped>\n",
       "    .dataframe tbody tr th:only-of-type {\n",
       "        vertical-align: middle;\n",
       "    }\n",
       "\n",
       "    .dataframe tbody tr th {\n",
       "        vertical-align: top;\n",
       "    }\n",
       "\n",
       "    .dataframe thead th {\n",
       "        text-align: right;\n",
       "    }\n",
       "</style>\n",
       "<table border=\"1\" class=\"dataframe\">\n",
       "  <thead>\n",
       "    <tr style=\"text-align: right;\">\n",
       "      <th></th>\n",
       "      <th>wl_1</th>\n",
       "      <th>wl_2</th>\n",
       "      <th>wl_3</th>\n",
       "      <th>wl_4</th>\n",
       "      <th>wl_5</th>\n",
       "      <th>wl_6</th>\n",
       "      <th>wl_7</th>\n",
       "      <th>wl_8</th>\n",
       "      <th>wl_9</th>\n",
       "      <th>wl_10</th>\n",
       "      <th>...</th>\n",
       "      <th>wl_274</th>\n",
       "      <th>wl_275</th>\n",
       "      <th>wl_276</th>\n",
       "      <th>wl_277</th>\n",
       "      <th>wl_278</th>\n",
       "      <th>wl_279</th>\n",
       "      <th>wl_280</th>\n",
       "      <th>wl_281</th>\n",
       "      <th>wl_282</th>\n",
       "      <th>wl_283</th>\n",
       "    </tr>\n",
       "  </thead>\n",
       "  <tbody>\n",
       "    <tr>\n",
       "      <th>0</th>\n",
       "      <td>0.7</td>\n",
       "      <td>1.951761</td>\n",
       "      <td>1.960612</td>\n",
       "      <td>1.96945</td>\n",
       "      <td>1.978273</td>\n",
       "      <td>1.987083</td>\n",
       "      <td>1.995879</td>\n",
       "      <td>2.004661</td>\n",
       "      <td>2.01343</td>\n",
       "      <td>2.022184</td>\n",
       "      <td>...</td>\n",
       "      <td>3.84972</td>\n",
       "      <td>3.85481</td>\n",
       "      <td>3.859887</td>\n",
       "      <td>3.86495</td>\n",
       "      <td>3.869999</td>\n",
       "      <td>3.875034</td>\n",
       "      <td>3.880055</td>\n",
       "      <td>3.885063</td>\n",
       "      <td>3.890056</td>\n",
       "      <td>3.895036</td>\n",
       "    </tr>\n",
       "  </tbody>\n",
       "</table>\n",
       "<p>1 rows × 283 columns</p>\n",
       "</div>"
      ],
      "text/plain": [
       "   wl_1      wl_2      wl_3     wl_4      wl_5      wl_6      wl_7      wl_8  \\\n",
       "0   0.7  1.951761  1.960612  1.96945  1.978273  1.987083  1.995879  2.004661   \n",
       "\n",
       "      wl_9     wl_10  ...   wl_274   wl_275    wl_276   wl_277    wl_278  \\\n",
       "0  2.01343  2.022184  ...  3.84972  3.85481  3.859887  3.86495  3.869999   \n",
       "\n",
       "     wl_279    wl_280    wl_281    wl_282    wl_283  \n",
       "0  3.875034  3.880055  3.885063  3.890056  3.895036  \n",
       "\n",
       "[1 rows x 283 columns]"
      ]
     },
     "execution_count": 10,
     "metadata": {},
     "output_type": "execute_result"
    }
   ],
   "source": [
    "wavelength_df = pd.read_csv(f'{config.RAW_DATA_DIRECTORY}/wavelengths.csv')\n",
    "wavelength_df.head()"
   ]
  },
  {
   "cell_type": "code",
   "execution_count": 11,
   "id": "f21ea920",
   "metadata": {},
   "outputs": [
    {
     "name": "stdout",
     "output_type": "stream",
     "text": [
      "<class 'pandas.core.frame.DataFrame'>\n",
      "RangeIndex: 1100 entries, 0 to 1099\n",
      "Columns: 284 entries, planet_id to wl_283\n",
      "dtypes: float64(283), int64(1)\n",
      "memory usage: 2.4 MB\n"
     ]
    }
   ],
   "source": [
    "spectra_df.info()"
   ]
  },
  {
   "cell_type": "markdown",
   "id": "742658ab",
   "metadata": {},
   "source": [
    "The wavelengths in the wavelengths.csv file correspond to the wavelengths in the ground truth spectra file. From the competition description, it appears that the wavelength grid spans 0.60 micrometers to 3.90 micrometers. This is the concatenated range for each instrument:\n",
    "\n",
    "- FGS1: 0.60 - 0.80 um\n",
    "- AIRS-CH0: 1.95 - 3.90 um\n",
    "\n",
    "FGS1 is the guidance camera, it takes alignment photos in the visible range. AIRS-CH0 is the actual science instrument, it takes spectra in the IR range. We have only the first channel from both instruments. Here are the wavelength column names covered by each instrument:"
   ]
  },
  {
   "cell_type": "code",
   "execution_count": 12,
   "id": "965a8f8e",
   "metadata": {},
   "outputs": [],
   "source": [
    "instrument_ranges = {\n",
    "    'FGS': ['wl_1'],\n",
    "    'AIRS': wavelength_df.columns[1:].tolist()\n",
    "}\n",
    "\n",
    "\n",
    "with open(f'{config.METADATA_DIRECTORY}/instrument_wavelengths.pkl', 'wb') as output_file:\n",
    "    pickle.dump(instrument_ranges, output_file)"
   ]
  }
 ],
 "metadata": {
  "kernelspec": {
   "display_name": ".venv",
   "language": "python",
   "name": "python3"
  },
  "language_info": {
   "codemirror_mode": {
    "name": "ipython",
    "version": 3
   },
   "file_extension": ".py",
   "mimetype": "text/x-python",
   "name": "python",
   "nbconvert_exporter": "python",
   "pygments_lexer": "ipython3",
   "version": "3.8.10"
  }
 },
 "nbformat": 4,
 "nbformat_minor": 5
}
