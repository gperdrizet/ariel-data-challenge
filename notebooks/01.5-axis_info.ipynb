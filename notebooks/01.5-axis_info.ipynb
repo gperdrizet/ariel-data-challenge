{
 "cells": [
  {
   "cell_type": "markdown",
   "id": "6ef3eef6",
   "metadata": {},
   "source": [
    "# Axis info metadata EDA\n",
    "\n",
    "## Notebooks set-up|"
   ]
  },
  {
   "cell_type": "code",
   "execution_count": 1,
   "id": "59323a1b",
   "metadata": {},
   "outputs": [
    {
     "name": "stdout",
     "output_type": "stream",
     "text": [
      "Working directory: /mnt/arkk/kaggle/ariel-data-challenge\n"
     ]
    }
   ],
   "source": [
    "# Set notebook root to project root\n",
    "from helper_functions import set_project_root\n",
    "\n",
    "set_project_root()\n",
    "\n",
    "# Third party imports\n",
    "import matplotlib.pyplot as plt\n",
    "import numpy as np\n",
    "import pandas as pd\n",
    "\n",
    "# Local imports\n",
    "import configuration as config"
   ]
  },
  {
   "cell_type": "markdown",
   "id": "ba007e28",
   "metadata": {},
   "source": [
    "## 1. Load and inspect"
   ]
  },
  {
   "cell_type": "code",
   "execution_count": 2,
   "id": "045227d3",
   "metadata": {},
   "outputs": [
    {
     "data": {
      "text/html": [
       "<div>\n",
       "<style scoped>\n",
       "    .dataframe tbody tr th:only-of-type {\n",
       "        vertical-align: middle;\n",
       "    }\n",
       "\n",
       "    .dataframe tbody tr th {\n",
       "        vertical-align: top;\n",
       "    }\n",
       "\n",
       "    .dataframe thead th {\n",
       "        text-align: right;\n",
       "    }\n",
       "</style>\n",
       "<table border=\"1\" class=\"dataframe\">\n",
       "  <thead>\n",
       "    <tr style=\"text-align: right;\">\n",
       "      <th></th>\n",
       "      <th>AIRS-CH0-axis0-h</th>\n",
       "      <th>AIRS-CH0-axis2-um</th>\n",
       "      <th>AIRS-CH0-integration_time</th>\n",
       "      <th>FGS1-axis0-h</th>\n",
       "    </tr>\n",
       "  </thead>\n",
       "  <tbody>\n",
       "    <tr>\n",
       "      <th>0</th>\n",
       "      <td>0.000028</td>\n",
       "      <td>4.078463</td>\n",
       "      <td>0.1</td>\n",
       "      <td>0.000028</td>\n",
       "    </tr>\n",
       "    <tr>\n",
       "      <th>1</th>\n",
       "      <td>0.000056</td>\n",
       "      <td>4.074023</td>\n",
       "      <td>4.5</td>\n",
       "      <td>0.000056</td>\n",
       "    </tr>\n",
       "    <tr>\n",
       "      <th>2</th>\n",
       "      <td>0.001361</td>\n",
       "      <td>4.069568</td>\n",
       "      <td>0.1</td>\n",
       "      <td>0.000139</td>\n",
       "    </tr>\n",
       "    <tr>\n",
       "      <th>3</th>\n",
       "      <td>0.001389</td>\n",
       "      <td>4.065100</td>\n",
       "      <td>4.5</td>\n",
       "      <td>0.000167</td>\n",
       "    </tr>\n",
       "    <tr>\n",
       "      <th>4</th>\n",
       "      <td>0.002694</td>\n",
       "      <td>4.060618</td>\n",
       "      <td>0.1</td>\n",
       "      <td>0.000250</td>\n",
       "    </tr>\n",
       "  </tbody>\n",
       "</table>\n",
       "</div>"
      ],
      "text/plain": [
       "   AIRS-CH0-axis0-h  AIRS-CH0-axis2-um  AIRS-CH0-integration_time  \\\n",
       "0          0.000028           4.078463                        0.1   \n",
       "1          0.000056           4.074023                        4.5   \n",
       "2          0.001361           4.069568                        0.1   \n",
       "3          0.001389           4.065100                        4.5   \n",
       "4          0.002694           4.060618                        0.1   \n",
       "\n",
       "   FGS1-axis0-h  \n",
       "0      0.000028  \n",
       "1      0.000056  \n",
       "2      0.000139  \n",
       "3      0.000167  \n",
       "4      0.000250  "
      ]
     },
     "execution_count": 2,
     "metadata": {},
     "output_type": "execute_result"
    }
   ],
   "source": [
    "axis_info = pd.read_parquet(f'{config.DATA_DIRECTORY}/raw/axis_info.parquet')\n",
    "axis_info.head()"
   ]
  },
  {
   "cell_type": "code",
   "execution_count": 3,
   "id": "8a854df8",
   "metadata": {},
   "outputs": [
    {
     "data": {
      "text/html": [
       "<div>\n",
       "<style scoped>\n",
       "    .dataframe tbody tr th:only-of-type {\n",
       "        vertical-align: middle;\n",
       "    }\n",
       "\n",
       "    .dataframe tbody tr th {\n",
       "        vertical-align: top;\n",
       "    }\n",
       "\n",
       "    .dataframe thead th {\n",
       "        text-align: right;\n",
       "    }\n",
       "</style>\n",
       "<table border=\"1\" class=\"dataframe\">\n",
       "  <thead>\n",
       "    <tr style=\"text-align: right;\">\n",
       "      <th></th>\n",
       "      <th>AIRS-CH0-axis0-h</th>\n",
       "      <th>AIRS-CH0-axis2-um</th>\n",
       "      <th>AIRS-CH0-integration_time</th>\n",
       "      <th>FGS1-axis0-h</th>\n",
       "    </tr>\n",
       "  </thead>\n",
       "  <tbody>\n",
       "    <tr>\n",
       "      <th>count</th>\n",
       "      <td>11250.000000</td>\n",
       "      <td>356.000000</td>\n",
       "      <td>11250.000000</td>\n",
       "      <td>135000.000000</td>\n",
       "    </tr>\n",
       "    <tr>\n",
       "      <th>mean</th>\n",
       "      <td>3.749375</td>\n",
       "      <td>3.000661</td>\n",
       "      <td>2.300000</td>\n",
       "      <td>3.749986</td>\n",
       "    </tr>\n",
       "    <tr>\n",
       "      <th>std</th>\n",
       "      <td>2.165160</td>\n",
       "      <td>0.711864</td>\n",
       "      <td>2.200098</td>\n",
       "      <td>2.165072</td>\n",
       "    </tr>\n",
       "    <tr>\n",
       "      <th>min</th>\n",
       "      <td>0.000028</td>\n",
       "      <td>1.633253</td>\n",
       "      <td>0.100000</td>\n",
       "      <td>0.000028</td>\n",
       "    </tr>\n",
       "    <tr>\n",
       "      <th>25%</th>\n",
       "      <td>1.874701</td>\n",
       "      <td>2.407917</td>\n",
       "      <td>0.100000</td>\n",
       "      <td>1.875007</td>\n",
       "    </tr>\n",
       "    <tr>\n",
       "      <th>50%</th>\n",
       "      <td>3.749375</td>\n",
       "      <td>3.073674</td>\n",
       "      <td>2.300000</td>\n",
       "      <td>3.749986</td>\n",
       "    </tr>\n",
       "    <tr>\n",
       "      <th>75%</th>\n",
       "      <td>5.624049</td>\n",
       "      <td>3.630522</td>\n",
       "      <td>4.500000</td>\n",
       "      <td>5.624965</td>\n",
       "    </tr>\n",
       "    <tr>\n",
       "      <th>max</th>\n",
       "      <td>7.498722</td>\n",
       "      <td>4.078463</td>\n",
       "      <td>4.500000</td>\n",
       "      <td>7.499944</td>\n",
       "    </tr>\n",
       "  </tbody>\n",
       "</table>\n",
       "</div>"
      ],
      "text/plain": [
       "       AIRS-CH0-axis0-h  AIRS-CH0-axis2-um  AIRS-CH0-integration_time  \\\n",
       "count      11250.000000         356.000000               11250.000000   \n",
       "mean           3.749375           3.000661                   2.300000   \n",
       "std            2.165160           0.711864                   2.200098   \n",
       "min            0.000028           1.633253                   0.100000   \n",
       "25%            1.874701           2.407917                   0.100000   \n",
       "50%            3.749375           3.073674                   2.300000   \n",
       "75%            5.624049           3.630522                   4.500000   \n",
       "max            7.498722           4.078463                   4.500000   \n",
       "\n",
       "        FGS1-axis0-h  \n",
       "count  135000.000000  \n",
       "mean        3.749986  \n",
       "std         2.165072  \n",
       "min         0.000028  \n",
       "25%         1.875007  \n",
       "50%         3.749986  \n",
       "75%         5.624965  \n",
       "max         7.499944  "
      ]
     },
     "execution_count": 3,
     "metadata": {},
     "output_type": "execute_result"
    }
   ],
   "source": [
    "axis_info.describe()"
   ]
  },
  {
   "cell_type": "code",
   "execution_count": 4,
   "id": "d30454e3",
   "metadata": {},
   "outputs": [
    {
     "name": "stdout",
     "output_type": "stream",
     "text": [
      "<class 'pandas.core.frame.DataFrame'>\n",
      "RangeIndex: 135000 entries, 0 to 134999\n",
      "Data columns (total 4 columns):\n",
      " #   Column                     Non-Null Count   Dtype  \n",
      "---  ------                     --------------   -----  \n",
      " 0   AIRS-CH0-axis0-h           11250 non-null   float64\n",
      " 1   AIRS-CH0-axis2-um          356 non-null     float64\n",
      " 2   AIRS-CH0-integration_time  11250 non-null   float64\n",
      " 3   FGS1-axis0-h               135000 non-null  float64\n",
      "dtypes: float64(4)\n",
      "memory usage: 4.1 MB\n"
     ]
    }
   ],
   "source": [
    "axis_info.info()"
   ]
  },
  {
   "cell_type": "markdown",
   "id": "845482fc",
   "metadata": {},
   "source": [
    "Ah - OK, this makes more sense now. When I saw 'axis', I was thinking of spatial alignment of the satellite, or maybe the star system? I don't know what I was picturing, but this is better. It's data for each axis of the signal matrices. Much more helpful. Here's my interpretation:\n",
    "\n",
    "1. AIRS-CH0-axis0-h: Time index for AIRS readings - h is probably hours (0.000028 x 3600 sec per hour ~ 0.1 s)\n",
    "2. AIRS-CH0-axis2-um: Wavelength across the frames in μm, the range of ~ 1.6 - μm is consistent with the high energy-ish end of the IR spectrum\n",
    "3. AIRS-CH0-integration_time: Amount of time the detector had been accumulating for when read (presumably in μs?)\n",
    "4. FGS1-axis0-h: Time index of FGS1 readings\n",
    "\n",
    "So I think we should probably resample some FGS1 data to match the AIRS time course and see if we can still spot transits easily."
   ]
  },
  {
   "cell_type": "markdown",
   "id": "8b62f031",
   "metadata": {},
   "source": [
    "## 1. FGS1 time series downsampling"
   ]
  },
  {
   "cell_type": "code",
   "execution_count": 28,
   "id": "228dd195",
   "metadata": {},
   "outputs": [
    {
     "data": {
      "image/png": "[encoded data removed]",
      "text/plain": [
       "<Figure size 640x480 with 1 Axes>"
      ]
     },
     "metadata": {},
     "output_type": "display_data"
    }
   ],
   "source": [
    "plt.title('Instrument captures over time')\n",
    "plt.scatter(axis_info['FGS1-axis0-h'] * 3600, list(range(1, len(axis_info['FGS1-axis0-h']) + 1)), label='FGS1')\n",
    "plt.scatter(axis_info['AIRS-CH0-axis0-h'] * 3600, list(range(1, len(axis_info['AIRS-CH0-axis0-h']) + 1)), label='AIRS-CH0')\n",
    "plt.xlim(0, 10)\n",
    "plt.ylim(0, 60)\n",
    "plt.xlabel('Time (sec)')\n",
    "plt.ylabel('Cumulative captures')\n",
    "plt.legend(loc='best')\n",
    "plt.show()"
   ]
  },
  {
   "cell_type": "code",
   "execution_count": null,
   "id": "411f5a3e",
   "metadata": {},
   "outputs": [],
   "source": []
  }
 ],
 "metadata": {
  "kernelspec": {
   "display_name": ".venv",
   "language": "python",
   "name": "python3"
  },
  "language_info": {
   "codemirror_mode": {
    "name": "ipython",
    "version": 3
   },
   "file_extension": ".py",
   "mimetype": "text/x-python",
   "name": "python",
   "nbconvert_exporter": "python",
   "pygments_lexer": "ipython3",
   "version": "3.8.10"
  }
 },
 "nbformat": 4,
 "nbformat_minor": 5
}
