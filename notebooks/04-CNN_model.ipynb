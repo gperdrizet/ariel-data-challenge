{
 "cells": [
  {
   "cell_type": "markdown",
   "id": "30cbf344",
   "metadata": {},
   "source": [
    "# CNN model\n",
    "\n",
    "## Notebook set-up"
   ]
  },
  {
   "cell_type": "code",
   "execution_count": null,
   "id": "e0e47803",
   "metadata": {},
   "outputs": [],
   "source": [
    "# Set notebook root to project root\n",
    "from helper_functions import set_project_root\n",
    "\n",
    "set_project_root()\n",
    "\n",
    "# Standard library imports\n",
    "import math\n",
    "\n",
    "# Third party imports\n",
    "import h5py\n",
    "import numpy as np\n",
    "\n",
    "from keras.utils import PyDataset\n",
    "\n",
    "# Local imports\n",
    "import configuration as config"
   ]
  },
  {
   "cell_type": "markdown",
   "id": "0e56c6c8",
   "metadata": {},
   "source": [
    "## 1. PyDataset class definition"
   ]
  },
  {
   "cell_type": "code",
   "execution_count": null,
   "id": "f1a770dd",
   "metadata": {},
   "outputs": [],
   "source": [
    "class ArielPyDataset(PyDataset):\n",
    "\n",
    "    def __init__(self, planet_ids, resamples: int = 10, batch_size: int = 32, **kwargs):\n",
    "\n",
    "        super().__init__(**kwargs)\n",
    "\n",
    "        self.planet_ids = planet_ids        \n",
    "        self.resamples = resamples\n",
    "        self.batch_size = batch_size\n",
    "\n",
    "    def __len__(self):\n",
    "\n",
    "        # Return number of batches.\n",
    "        return math.ceil(\n",
    "            (self.resamples * len(self.planet_ids)) / self.batch_size\n",
    "        )\n",
    "\n",
    "    def __getitem__(self, idx):\n",
    "\n",
    "        # Return x, y for batch idx.\n",
    "        low = idx * self.batch_size\n",
    "\n",
    "        # Cap upper bound at array length; the last batch may be smaller\n",
    "        # if the total number of items is not a multiple of batch size.\n",
    "        high = min(low + self.batch_size, len(self.planet_ids))\n",
    "        batch_x = self.x[low:high]\n",
    "        batch_y = self.y[low:high]\n",
    "\n",
    "        return np.array([\n",
    "            resize(imread(file_name), (200, 200)) for file_name in batch_x]), np.array(batch_y)\n"
   ]
  },
  {
   "cell_type": "code",
   "execution_count": null,
   "id": "6d22cc58",
   "metadata": {},
   "outputs": [],
   "source": [
    "# Load the list of planets\n",
    "with h5py.File(f'{config.PROCESSED_DATA_DIRECTORY}/train.h5', 'r') as hdf:\n",
    "    planet_ids = list(hdf.keys())"
   ]
  }
 ],
 "metadata": {
  "kernelspec": {
   "display_name": ".venv (3.8.10)",
   "language": "python",
   "name": "python3"
  },
  "language_info": {
   "codemirror_mode": {
    "name": "ipython",
    "version": 3
   },
   "file_extension": ".py",
   "mimetype": "text/x-python",
   "name": "python",
   "nbconvert_exporter": "python",
   "pygments_lexer": "ipython3",
   "version": "3.8.10"
  }
 },
 "nbformat": 4,
 "nbformat_minor": 5
}
