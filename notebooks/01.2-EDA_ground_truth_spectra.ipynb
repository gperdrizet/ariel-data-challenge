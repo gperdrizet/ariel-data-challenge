{
 "cells": [
  {
   "cell_type": "markdown",
   "id": "3d2fec2d",
   "metadata": {},
   "source": [
    "# Ground truth spectra EDA"
   ]
  },
  {
   "cell_type": "code",
   "execution_count": 2,
   "id": "1f44cd13",
   "metadata": {},
   "outputs": [],
   "source": [
    "import pandas as pd"
   ]
  },
  {
   "cell_type": "markdown",
   "id": "dd8d7275",
   "metadata": {},
   "source": [
    "## 1. Inspect"
   ]
  },
  {
   "cell_type": "code",
   "execution_count": null,
   "id": "f4d8e30b",
   "metadata": {},
   "outputs": [],
   "source": [
    "spectra_df = pd.read_csv('../data/raw')"
   ]
  }
 ],
 "metadata": {
  "kernelspec": {
   "display_name": ".venv",
   "language": "python",
   "name": "python3"
  },
  "language_info": {
   "codemirror_mode": {
    "name": "ipython",
    "version": 3
   },
   "file_extension": ".py",
   "mimetype": "text/x-python",
   "name": "python",
   "nbconvert_exporter": "python",
   "pygments_lexer": "ipython3",
   "version": "3.8.10"
  }
 },
 "nbformat": 4,
 "nbformat_minor": 5
}
