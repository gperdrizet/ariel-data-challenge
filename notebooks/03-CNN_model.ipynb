{
 "cells": [
  {
   "cell_type": "markdown",
   "id": "30cbf344",
   "metadata": {},
   "source": [
    "# CNN model\n",
    "\n",
    "## Notebook set-up"
   ]
  },
  {
   "cell_type": "code",
   "execution_count": 15,
   "id": "e0e47803",
   "metadata": {},
   "outputs": [
    {
     "name": "stdout",
     "output_type": "stream",
     "text": [
      "Working directory: /mnt/arkk/kaggle/ariel-data-challenge\n"
     ]
    }
   ],
   "source": [
    "# Set notebook root to project root\n",
    "from helper_functions import set_project_root\n",
    "\n",
    "set_project_root()\n",
    "\n",
    "# Standard library imports\n",
    "import random\n",
    "from functools import partial\n",
    "\n",
    "# Third party imports\n",
    "import h5py\n",
    "import matplotlib.pyplot as plt\n",
    "import numpy as np\n",
    "import tensorflow as tf\n",
    "\n",
    "# Local imports\n",
    "from ariel_data_preprocessing.utils import load_masked_frames\n",
    "import configuration as config\n",
    "\n",
    "wavelengths = 283\n",
    "sample_size = 100"
   ]
  },
  {
   "cell_type": "markdown",
   "id": "cc846628",
   "metadata": {},
   "source": [
    "## 1. Data preparation\n",
    "\n",
    "### 1.1. Load planet list"
   ]
  },
  {
   "cell_type": "code",
   "execution_count": 2,
   "id": "f2828f29",
   "metadata": {},
   "outputs": [
    {
     "name": "stdout",
     "output_type": "stream",
     "text": [
      "Found 1100 planets in training data.\n"
     ]
    }
   ],
   "source": [
    "# Load corrected/extracted data for a sample planet\n",
    "with h5py.File(f'{config.PROCESSED_DATA_DIRECTORY}/train.h5', 'r') as hdf:\n",
    "    planet_ids = list(hdf.keys())\n",
    "\n",
    "print(f'Found {len(planet_ids)} planets in training data.')"
   ]
  },
  {
   "cell_type": "markdown",
   "id": "915ce92f",
   "metadata": {},
   "source": [
    "### 1.2. Split planets into training & validation"
   ]
  },
  {
   "cell_type": "code",
   "execution_count": 3,
   "id": "eb4e151a",
   "metadata": {},
   "outputs": [
    {
     "name": "stdout",
     "output_type": "stream",
     "text": [
      "Training planets: 550\n",
      "Validation planets: 550\n"
     ]
    }
   ],
   "source": [
    "random.shuffle(planet_ids)\n",
    "\n",
    "training_planet_ids = planet_ids[:len(planet_ids) // 2]\n",
    "validation_planet_ids = planet_ids[len(planet_ids) // 2:]\n",
    "\n",
    "print(f'Training planets: {len(training_planet_ids)}')\n",
    "print(f'Validation planets: {len(validation_planet_ids)}')"
   ]
  },
  {
   "cell_type": "markdown",
   "id": "0e56c6c8",
   "metadata": {},
   "source": [
    "## 2. Data generator\n",
    "\n",
    "### 2.1. Data loader function"
   ]
  },
  {
   "cell_type": "code",
   "execution_count": 4,
   "id": "f1a770dd",
   "metadata": {},
   "outputs": [],
   "source": [
    "def data_loader(planet_ids: list, data_file: str, sample_size: int = 100):\n",
    "    '''Generator that yields signal, spectrum pairs for training/validation/testing.\n",
    "\n",
    "    Args:\n",
    "        planet_ids (list): List of planet IDs to include in the generator.\n",
    "        data_file (str): Path to the HDF5 file containing the data.\n",
    "        sample_size (int, optional): Number of frames to draw from each planet. Defaults to 100.\n",
    "    '''\n",
    "\n",
    "    with h5py.File(data_file, 'r') as hdf:\n",
    "\n",
    "        while True:\n",
    "            np.random.shuffle(planet_ids)\n",
    "            \n",
    "            for planet_id in planet_ids:\n",
    "\n",
    "                signal = hdf[planet_id]['signal'][:]\n",
    "                spectrum = hdf[planet_id]['spectrum'][:]\n",
    "\n",
    "                indices = random.sample(range(signal.shape[0]), sample_size)\n",
    "                sample = signal[sorted(indices), :]\n",
    "\n",
    "                yield sample, spectrum\n"
   ]
  },
  {
   "cell_type": "markdown",
   "id": "e961fa07",
   "metadata": {},
   "source": [
    "### 2.2. Prefill the arguments to `data_loader()`"
   ]
  },
  {
   "cell_type": "code",
   "execution_count": 5,
   "id": "6d22cc58",
   "metadata": {},
   "outputs": [],
   "source": [
    "training_data_generator = partial(\n",
    "    data_loader,\n",
    "    planet_ids=training_planet_ids,\n",
    "    data_file=f'{config.PROCESSED_DATA_DIRECTORY}/train.h5',\n",
    "    sample_size=100\n",
    ")\n",
    "\n",
    "validation_data_generator = partial(\n",
    "    data_loader,\n",
    "    planet_ids=validation_planet_ids,\n",
    "    data_file=f'{config.PROCESSED_DATA_DIRECTORY}/train.h5',\n",
    "    sample_size=100\n",
    ")"
   ]
  },
  {
   "cell_type": "markdown",
   "id": "25e49150",
   "metadata": {},
   "source": [
    "### 2.3. Create TF datasets"
   ]
  },
  {
   "cell_type": "code",
   "execution_count": 6,
   "id": "a9bd92d0",
   "metadata": {},
   "outputs": [
    {
     "name": "stderr",
     "output_type": "stream",
     "text": [
      "2025-09-17 23:11:38.980133: I tensorflow/core/common_runtime/gpu/gpu_device.cc:1613] Created device /job:localhost/replica:0/task:0/device:GPU:0 with 6667 MB memory:  -> device: 0, name: NVIDIA GeForce GTX 1070, pci bus id: 0000:07:00.0, compute capability: 6.1\n",
      "2025-09-17 23:11:38.981241: I tensorflow/core/common_runtime/gpu/gpu_device.cc:1613] Created device /job:localhost/replica:0/task:0/device:GPU:1 with 10775 MB memory:  -> device: 1, name: Tesla K80, pci bus id: 0000:05:00.0, compute capability: 3.7\n",
      "2025-09-17 23:11:38.982251: I tensorflow/core/common_runtime/gpu/gpu_device.cc:1613] Created device /job:localhost/replica:0/task:0/device:GPU:2 with 10775 MB memory:  -> device: 2, name: Tesla K80, pci bus id: 0000:06:00.0, compute capability: 3.7\n"
     ]
    }
   ],
   "source": [
    "training_dataset = tf.data.Dataset.from_generator(\n",
    "    training_data_generator,\n",
    "    output_signature=(\n",
    "        tf.TensorSpec(shape=(sample_size, wavelengths), dtype=tf.float64),\n",
    "        tf.TensorSpec(shape=(wavelengths), dtype=tf.float64)\n",
    "    )\n",
    ")\n",
    "\n",
    "validation_dataset = tf.data.Dataset.from_generator(\n",
    "    validation_data_generator,\n",
    "    output_signature=(\n",
    "        tf.TensorSpec(shape=(sample_size, wavelengths), dtype=tf.float64),\n",
    "        tf.TensorSpec(shape=(wavelengths), dtype=tf.float64)\n",
    "    )\n",
    ")"
   ]
  },
  {
   "cell_type": "markdown",
   "id": "b413f682",
   "metadata": {},
   "source": [
    "### 2.4. Manually check batch shape"
   ]
  },
  {
   "cell_type": "code",
   "execution_count": null,
   "id": "1e9fa700",
   "metadata": {},
   "outputs": [],
   "source": [
    "batch = training_dataset.batch(4)\n",
    "signals, spectrums = next(iter(batch))\n",
    "\n",
    "print(f'Signal batch shape: {signals.shape}')\n",
    "print(f'Spectrum batch shape: {spectrums.shape}')"
   ]
  },
  {
   "cell_type": "markdown",
   "id": "2d586e99",
   "metadata": {},
   "source": [
    "## 3. CNN"
   ]
  },
  {
   "cell_type": "code",
   "execution_count": 7,
   "id": "c8e13d7e",
   "metadata": {},
   "outputs": [],
   "source": [
    "FRAMES = sample_size\n",
    "WAVELENGTHS = wavelengths\n",
    "LEARNING_RATE = 0.001\n",
    "L1_PENALTY = None\n",
    "L2_PENALTY = None\n",
    "FILTER_NUMS = [32, 64, 128]\n",
    "FILTER_SIZE = (3, 3)\n",
    "BATCH_SIZE = 32\n",
    "EPOCHS = 20"
   ]
  },
  {
   "cell_type": "markdown",
   "id": "e6e35a8e",
   "metadata": {},
   "source": [
    "### 3.1. Model definition"
   ]
  },
  {
   "cell_type": "code",
   "execution_count": 8,
   "id": "8e2bd52c",
   "metadata": {},
   "outputs": [],
   "source": [
    "def compile_model(\n",
    "        frames: int=FRAMES,\n",
    "        wavelengths: int=WAVELENGTHS,\n",
    "        learning_rate: float=LEARNING_RATE,\n",
    "        l1: float=L1_PENALTY,\n",
    "        l2: float=L2_PENALTY,\n",
    "        filter_nums=FILTER_NUMS,\n",
    "        filter_size=FILTER_SIZE\n",
    ") -> tf.keras.Model:\n",
    "\n",
    "    '''Builds the convolutional neural network regression model'''\n",
    "\n",
    "    # Set-up the L1L2 for the dense layers\n",
    "    regularizer = tf.keras.regularizers.L1L2(l1=l1, l2=l2)\n",
    "\n",
    "    # Define the model layers in order\n",
    "    model = tf.keras.Sequential([\n",
    "        tf.keras.layers.Input((frames,wavelengths,1)),\n",
    "        tf.keras.layers.Conv2D(\n",
    "            filter_nums[0],\n",
    "            filter_size,\n",
    "            padding='same',\n",
    "            activation='relu',\n",
    "        ),\n",
    "        tf.keras.layers.MaxPooling2D(),\n",
    "        tf.keras.layers.Conv2D(\n",
    "            filter_nums[1],\n",
    "            filter_size,\n",
    "            padding='same',\n",
    "            activation='relu',\n",
    "        ),\n",
    "        tf.keras.layers.MaxPooling2D(),\n",
    "        tf.keras.layers.Conv2D(\n",
    "            filter_nums[2],\n",
    "            filter_size,\n",
    "            padding='same',\n",
    "            activation='relu',\n",
    "        ),\n",
    "        tf.keras.layers.MaxPooling2D(),\n",
    "        tf.keras.layers.Flatten(),\n",
    "        tf.keras.layers.Dense(\n",
    "            128,\n",
    "            kernel_regularizer=regularizer,\n",
    "            activation='relu',\n",
    "        ),\n",
    "        tf.keras.layers.Dense(wavelengths, activation='relu')\n",
    "    ])\n",
    "\n",
    "    # Define the optimizer\n",
    "    optimizer = tf.keras.optimizers.Adam(learning_rate=learning_rate)\n",
    "\n",
    "    # Compile the model, specifying the type of loss to use during training and any extra\n",
    "    # metrics to evaluate\n",
    "    model.compile(\n",
    "        optimizer=optimizer,\n",
    "        loss=tf.keras.losses.MeanSquaredError(name='MSE'),\n",
    "        metrics=[tf.keras.metrics.RootMeanSquaredError(name='RMSE')]\n",
    "    )\n",
    "\n",
    "    return model"
   ]
  },
  {
   "cell_type": "code",
   "execution_count": 9,
   "id": "e89a4b65",
   "metadata": {},
   "outputs": [
    {
     "name": "stdout",
     "output_type": "stream",
     "text": [
      "Model: \"sequential\"\n",
      "_________________________________________________________________\n",
      " Layer (type)                Output Shape              Param #   \n",
      "=================================================================\n",
      " conv2d (Conv2D)             (None, 100, 283, 32)      320       \n",
      "                                                                 \n",
      " max_pooling2d (MaxPooling2D  (None, 50, 141, 32)      0         \n",
      " )                                                               \n",
      "                                                                 \n",
      " conv2d_1 (Conv2D)           (None, 50, 141, 64)       18496     \n",
      "                                                                 \n",
      " max_pooling2d_1 (MaxPooling  (None, 25, 70, 64)       0         \n",
      " 2D)                                                             \n",
      "                                                                 \n",
      " conv2d_2 (Conv2D)           (None, 25, 70, 128)       73856     \n",
      "                                                                 \n",
      " max_pooling2d_2 (MaxPooling  (None, 12, 35, 128)      0         \n",
      " 2D)                                                             \n",
      "                                                                 \n",
      " flatten (Flatten)           (None, 53760)             0         \n",
      "                                                                 \n",
      " dense (Dense)               (None, 128)               6881408   \n",
      "                                                                 \n",
      " dense_1 (Dense)             (None, 283)               36507     \n",
      "                                                                 \n",
      "=================================================================\n",
      "Total params: 7,010,587\n",
      "Trainable params: 7,010,587\n",
      "Non-trainable params: 0\n",
      "_________________________________________________________________\n"
     ]
    }
   ],
   "source": [
    "model = compile_model()\n",
    "model.summary()"
   ]
  },
  {
   "cell_type": "code",
   "execution_count": 17,
   "id": "9d85d366",
   "metadata": {},
   "outputs": [
    {
     "name": "stdout",
     "output_type": "stream",
     "text": [
      "Epoch 1/50\n"
     ]
    },
    {
     "name": "stdout",
     "output_type": "stream",
     "text": [
      "50/50 [==============================] - 17s 334ms/step - loss: 1.1030e-04 - RMSE: 0.0105 - val_loss: 1.1096e-04 - val_RMSE: 0.0105\n",
      "Epoch 2/50\n",
      "50/50 [==============================] - 17s 337ms/step - loss: 1.1437e-04 - RMSE: 0.0107 - val_loss: 1.1522e-04 - val_RMSE: 0.0107\n",
      "Epoch 3/50\n",
      "50/50 [==============================] - 17s 341ms/step - loss: 1.0709e-04 - RMSE: 0.0103 - val_loss: 1.1418e-04 - val_RMSE: 0.0107\n",
      "Epoch 4/50\n",
      "50/50 [==============================] - 17s 353ms/step - loss: 1.1426e-04 - RMSE: 0.0107 - val_loss: 1.1311e-04 - val_RMSE: 0.0106\n",
      "Epoch 5/50\n",
      "50/50 [==============================] - 19s 383ms/step - loss: 1.1337e-04 - RMSE: 0.0106 - val_loss: 1.1426e-04 - val_RMSE: 0.0107\n",
      "Epoch 6/50\n",
      "50/50 [==============================] - 19s 393ms/step - loss: 1.1418e-04 - RMSE: 0.0107 - val_loss: 1.2653e-04 - val_RMSE: 0.0112\n",
      "Epoch 7/50\n",
      "50/50 [==============================] - 18s 368ms/step - loss: 1.1345e-04 - RMSE: 0.0107 - val_loss: 1.1440e-04 - val_RMSE: 0.0107\n",
      "Epoch 8/50\n",
      "50/50 [==============================] - 17s 351ms/step - loss: 1.1247e-04 - RMSE: 0.0106 - val_loss: 1.1395e-04 - val_RMSE: 0.0107\n",
      "Epoch 9/50\n",
      "50/50 [==============================] - 16s 332ms/step - loss: 1.1220e-04 - RMSE: 0.0106 - val_loss: 1.1481e-04 - val_RMSE: 0.0107\n",
      "Epoch 10/50\n",
      "50/50 [==============================] - 16s 335ms/step - loss: 1.1307e-04 - RMSE: 0.0106 - val_loss: 1.1311e-04 - val_RMSE: 0.0106\n",
      "Epoch 11/50\n",
      "50/50 [==============================] - 16s 333ms/step - loss: 1.1055e-04 - RMSE: 0.0105 - val_loss: 1.1542e-04 - val_RMSE: 0.0107\n",
      "Epoch 12/50\n",
      "50/50 [==============================] - 16s 333ms/step - loss: 1.1398e-04 - RMSE: 0.0107 - val_loss: 1.1299e-04 - val_RMSE: 0.0106\n",
      "Epoch 13/50\n",
      "50/50 [==============================] - 16s 334ms/step - loss: 1.1057e-04 - RMSE: 0.0105 - val_loss: 1.1270e-04 - val_RMSE: 0.0106\n",
      "Epoch 14/50\n",
      "50/50 [==============================] - 16s 334ms/step - loss: 1.1037e-04 - RMSE: 0.0105 - val_loss: 1.1375e-04 - val_RMSE: 0.0107\n",
      "Epoch 15/50\n",
      "50/50 [==============================] - 17s 337ms/step - loss: 1.1159e-04 - RMSE: 0.0106 - val_loss: 1.1157e-04 - val_RMSE: 0.0106\n",
      "Epoch 16/50\n",
      "50/50 [==============================] - 16s 333ms/step - loss: 1.0925e-04 - RMSE: 0.0105 - val_loss: 1.1264e-04 - val_RMSE: 0.0106\n",
      "Epoch 17/50\n",
      "50/50 [==============================] - 16s 334ms/step - loss: 1.1420e-04 - RMSE: 0.0107 - val_loss: 1.1305e-04 - val_RMSE: 0.0106\n",
      "Epoch 18/50\n",
      "50/50 [==============================] - 16s 336ms/step - loss: 1.1429e-04 - RMSE: 0.0107 - val_loss: 1.1246e-04 - val_RMSE: 0.0106\n",
      "Epoch 19/50\n",
      "50/50 [==============================] - 16s 334ms/step - loss: 1.1040e-04 - RMSE: 0.0105 - val_loss: 1.1445e-04 - val_RMSE: 0.0107\n",
      "Epoch 20/50\n",
      "50/50 [==============================] - 16s 334ms/step - loss: 1.1162e-04 - RMSE: 0.0106 - val_loss: 1.1217e-04 - val_RMSE: 0.0106\n",
      "Epoch 21/50\n",
      "50/50 [==============================] - 16s 334ms/step - loss: 1.1194e-04 - RMSE: 0.0106 - val_loss: 1.1194e-04 - val_RMSE: 0.0106\n",
      "Epoch 22/50\n",
      "50/50 [==============================] - 16s 334ms/step - loss: 1.1074e-04 - RMSE: 0.0105 - val_loss: 1.1438e-04 - val_RMSE: 0.0107\n",
      "Epoch 23/50\n",
      "50/50 [==============================] - 16s 334ms/step - loss: 1.0994e-04 - RMSE: 0.0105 - val_loss: 1.1316e-04 - val_RMSE: 0.0106\n",
      "Epoch 24/50\n",
      "50/50 [==============================] - 16s 324ms/step - loss: 1.1595e-04 - RMSE: 0.0108 - val_loss: 1.1301e-04 - val_RMSE: 0.0106\n",
      "Epoch 25/50\n",
      "50/50 [==============================] - 16s 333ms/step - loss: 1.0997e-04 - RMSE: 0.0105 - val_loss: 1.1486e-04 - val_RMSE: 0.0107\n",
      "Epoch 26/50\n",
      "50/50 [==============================] - 16s 334ms/step - loss: 1.1067e-04 - RMSE: 0.0105 - val_loss: 1.1264e-04 - val_RMSE: 0.0106\n",
      "Epoch 27/50\n",
      "50/50 [==============================] - 16s 333ms/step - loss: 1.1333e-04 - RMSE: 0.0106 - val_loss: 1.1328e-04 - val_RMSE: 0.0106\n",
      "Epoch 28/50\n",
      "50/50 [==============================] - 17s 338ms/step - loss: 1.0737e-04 - RMSE: 0.0104 - val_loss: 1.1238e-04 - val_RMSE: 0.0106\n",
      "Epoch 29/50\n",
      "50/50 [==============================] - 17s 337ms/step - loss: 1.1355e-04 - RMSE: 0.0107 - val_loss: 1.1093e-04 - val_RMSE: 0.0105\n",
      "Epoch 30/50\n",
      "50/50 [==============================] - 16s 325ms/step - loss: 1.1152e-04 - RMSE: 0.0106 - val_loss: 1.1403e-04 - val_RMSE: 0.0107\n",
      "Epoch 31/50\n",
      "50/50 [==============================] - 16s 334ms/step - loss: 1.1269e-04 - RMSE: 0.0106 - val_loss: 1.1260e-04 - val_RMSE: 0.0106\n",
      "Epoch 32/50\n",
      "50/50 [==============================] - 16s 333ms/step - loss: 1.1146e-04 - RMSE: 0.0106 - val_loss: 1.1342e-04 - val_RMSE: 0.0106\n",
      "Epoch 33/50\n",
      "50/50 [==============================] - 16s 334ms/step - loss: 1.1149e-04 - RMSE: 0.0106 - val_loss: 1.1390e-04 - val_RMSE: 0.0107\n",
      "Epoch 34/50\n",
      "50/50 [==============================] - 17s 336ms/step - loss: 1.1228e-04 - RMSE: 0.0106 - val_loss: 1.1327e-04 - val_RMSE: 0.0106\n",
      "Epoch 35/50\n",
      "50/50 [==============================] - 17s 338ms/step - loss: 1.1038e-04 - RMSE: 0.0105 - val_loss: 1.1300e-04 - val_RMSE: 0.0106\n",
      "Epoch 36/50\n",
      "50/50 [==============================] - 17s 338ms/step - loss: 1.1073e-04 - RMSE: 0.0105 - val_loss: 1.1292e-04 - val_RMSE: 0.0106\n",
      "Epoch 37/50\n",
      "50/50 [==============================] - 16s 335ms/step - loss: 1.1285e-04 - RMSE: 0.0106 - val_loss: 1.1460e-04 - val_RMSE: 0.0107\n",
      "Epoch 38/50\n",
      "50/50 [==============================] - 17s 341ms/step - loss: 1.1255e-04 - RMSE: 0.0106 - val_loss: 1.1387e-04 - val_RMSE: 0.0107\n",
      "Epoch 39/50\n",
      "50/50 [==============================] - 16s 334ms/step - loss: 1.0973e-04 - RMSE: 0.0105 - val_loss: 1.1224e-04 - val_RMSE: 0.0106\n",
      "Epoch 40/50\n",
      "50/50 [==============================] - 16s 332ms/step - loss: 1.1187e-04 - RMSE: 0.0106 - val_loss: 1.1163e-04 - val_RMSE: 0.0106\n",
      "Epoch 41/50\n",
      "50/50 [==============================] - 16s 335ms/step - loss: 1.1440e-04 - RMSE: 0.0107 - val_loss: 1.1700e-04 - val_RMSE: 0.0108\n",
      "Epoch 42/50\n",
      "50/50 [==============================] - 16s 332ms/step - loss: 1.1469e-04 - RMSE: 0.0107 - val_loss: 1.1336e-04 - val_RMSE: 0.0106\n",
      "Epoch 43/50\n",
      "50/50 [==============================] - 16s 336ms/step - loss: 1.1114e-04 - RMSE: 0.0105 - val_loss: 1.1322e-04 - val_RMSE: 0.0106\n",
      "Epoch 44/50\n",
      "50/50 [==============================] - 16s 335ms/step - loss: 1.1108e-04 - RMSE: 0.0105 - val_loss: 1.1277e-04 - val_RMSE: 0.0106\n",
      "Epoch 45/50\n",
      "50/50 [==============================] - 16s 336ms/step - loss: 1.1130e-04 - RMSE: 0.0105 - val_loss: 1.1176e-04 - val_RMSE: 0.0106\n",
      "Epoch 46/50\n",
      "50/50 [==============================] - 17s 341ms/step - loss: 1.0967e-04 - RMSE: 0.0105 - val_loss: 1.1252e-04 - val_RMSE: 0.0106\n",
      "Epoch 47/50\n",
      "50/50 [==============================] - 16s 334ms/step - loss: 1.1278e-04 - RMSE: 0.0106 - val_loss: 1.1252e-04 - val_RMSE: 0.0106\n",
      "Epoch 48/50\n",
      "50/50 [==============================] - 16s 335ms/step - loss: 1.0952e-04 - RMSE: 0.0105 - val_loss: 1.1362e-04 - val_RMSE: 0.0107\n",
      "Epoch 49/50\n",
      "50/50 [==============================] - 16s 332ms/step - loss: 1.1021e-04 - RMSE: 0.0105 - val_loss: 1.1162e-04 - val_RMSE: 0.0106\n",
      "Epoch 50/50\n",
      "50/50 [==============================] - 16s 335ms/step - loss: 1.0888e-04 - RMSE: 0.0104 - val_loss: 1.1119e-04 - val_RMSE: 0.0105\n"
     ]
    }
   ],
   "source": [
    "training_results = model.fit(\n",
    "  training_dataset.batch(32),\n",
    "  validation_data=validation_dataset.batch(32),\n",
    "  epochs=50,\n",
    "  steps_per_epoch=50,\n",
    "  validation_steps=50,\n",
    "  verbose=1\n",
    ")"
   ]
  },
  {
   "cell_type": "code",
   "execution_count": null,
   "id": "5f6b67ef",
   "metadata": {},
   "outputs": [
    {
     "data": {
      "image/png": "[encoded data removed]",
      "text/plain": [
       "<Figure size 800x400 with 2 Axes>"
      ]
     },
     "metadata": {},
     "output_type": "display_data"
    },
    {
     "ename": "",
     "evalue": "",
     "output_type": "error",
     "traceback": [
      "\u001b[1;31mThe Kernel crashed while executing code in the current cell or a previous cell. \n",
      "\u001b[1;31mPlease review the code in the cell(s) to identify a possible cause of the failure. \n",
      "\u001b[1;31mClick <a href='https://aka.ms/vscodeJupyterKernelCrash'>here</a> for more info. \n",
      "\u001b[1;31mView Jupyter <a href='command:jupyter.viewOutput'>log</a> for further details."
     ]
    }
   ],
   "source": [
    "# Set-up a 1x2 figure for accuracy and binary cross-entropy\n",
    "fig, axs=plt.subplots(1,2, figsize=(8,4))\n",
    "\n",
    "# Add the main title\n",
    "fig.suptitle('CNN training curves', size='large')\n",
    "\n",
    "# Plot training and validation MSE\n",
    "axs[0].set_title('Mean squared error')\n",
    "axs[0].plot(np.array(training_results.history['loss']), label='Training')\n",
    "axs[0].plot(np.array(training_results.history['val_loss']), label='Validation')\n",
    "axs[0].set_xlabel('Epoch')\n",
    "axs[0].set_ylabel('MSE')\n",
    "axs[0].legend(loc='upper left')\n",
    "\n",
    "# Plot training and validation binary cross-entropy\n",
    "axs[1].set_title('Root mean squared error')\n",
    "axs[1].plot(training_results.history['RMSE'])\n",
    "axs[1].plot(training_results.history['val_RMSE'])\n",
    "axs[1].set_xlabel('Epoch')\n",
    "axs[1].set_ylabel('RMSE')\n",
    "\n",
    "# Show the plot\n",
    "fig.tight_layout()"
   ]
  }
 ],
 "metadata": {
  "kernelspec": {
   "display_name": ".venv",
   "language": "python",
   "name": "python3"
  },
  "language_info": {
   "codemirror_mode": {
    "name": "ipython",
    "version": 3
   },
   "file_extension": ".py",
   "mimetype": "text/x-python",
   "name": "python",
   "nbconvert_exporter": "python",
   "pygments_lexer": "ipython3",
   "version": "3.8.10"
  }
 },
 "nbformat": 4,
 "nbformat_minor": 5
}
