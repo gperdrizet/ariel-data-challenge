{
 "cells": [
  {
   "cell_type": "markdown",
   "id": "06d26bc8",
   "metadata": {},
   "source": [
    "# MultiGPU training optimization\n",
    "\n",
    "How many jobs until we start to lose performance?\n",
    "\n",
    "## Notebook set-up"
   ]
  },
  {
   "cell_type": "code",
   "execution_count": 1,
   "id": "47c8ba23",
   "metadata": {},
   "outputs": [
    {
     "name": "stdout",
     "output_type": "stream",
     "text": [
      "Working directory: /mnt/arkk/kaggle/ariel-data-challenge\n"
     ]
    }
   ],
   "source": [
    "# Set notebook root to project root\n",
    "from helper_functions import set_project_root\n",
    "\n",
    "set_project_root()\n",
    "\n",
    "# Standard library imports\n",
    "import multiprocessing as mp\n",
    "import time\n",
    "from pathlib import Path\n",
    "\n",
    "# Third party imports\n",
    "import matplotlib.pyplot as plt\n",
    "import pandas as pd\n",
    "\n",
    "# Local imports\n",
    "import configuration as config\n",
    "from model_training import optimize_gpu_workers\n",
    "from model_training.functions.utils import clear_tensorboard_logs\n",
    "\n",
    "mp.set_start_method('spawn', force=True)\n",
    "\n",
    "clear_tensorboard_logs()"
   ]
  },
  {
   "cell_type": "markdown",
   "id": "4a93c37e",
   "metadata": {},
   "source": [
    "## 1.1. Optuna runs"
   ]
  },
  {
   "cell_type": "code",
   "execution_count": 2,
   "id": "59ac3cfe",
   "metadata": {},
   "outputs": [],
   "source": [
    "worker_nums = [1,2,3,4,5,6,7,8]\n",
    "results_file = f'{config.EXPERIMENT_RESULTS_DIRECTORY}/multiGPU_optimization_worker-{\"-\".join(map(str, worker_nums))}.csv'\n",
    "\n",
    "if Path(results_file).exists() == False:\n",
    "\n",
    "    results = {\n",
    "        'worker_count': [],\n",
    "        'run_time': [],\n",
    "        'total_steps': []\n",
    "    }\n",
    "\n",
    "    for workers in worker_nums:\n",
    "        print(f'Running optimization with {workers} workers')\n",
    "\n",
    "        start_time = time.time()\n",
    "\n",
    "        with mp.Pool(processes=workers) as pool:\n",
    "            pool.map(optimize_gpu_workers.run, range(workers))\n",
    "\n",
    "        results['run_time'].append(time.time() - start_time)\n",
    "        results['worker_count'].append(workers)\n",
    "        results['total_steps'].append(workers * 4 * 10 * 10)  # workers * optuna runs * epochs * steps_per_epoch\n",
    "\n",
    "        # Wait a bit before starting the next run\n",
    "        time.sleep(10)\n",
    "\n",
    "    results_df = pd.DataFrame(results)\n",
    "    results_df.to_csv(results_file, index=False)\n",
    "\n",
    "else:\n",
    "    results_df = pd.read_csv(results_file)"
   ]
  },
  {
   "cell_type": "code",
   "execution_count": 3,
   "id": "b4b39e01",
   "metadata": {},
   "outputs": [
    {
     "data": {
      "text/html": [
       "<div>\n",
       "<style scoped>\n",
       "    .dataframe tbody tr th:only-of-type {\n",
       "        vertical-align: middle;\n",
       "    }\n",
       "\n",
       "    .dataframe tbody tr th {\n",
       "        vertical-align: top;\n",
       "    }\n",
       "\n",
       "    .dataframe thead th {\n",
       "        text-align: right;\n",
       "    }\n",
       "</style>\n",
       "<table border=\"1\" class=\"dataframe\">\n",
       "  <thead>\n",
       "    <tr style=\"text-align: right;\">\n",
       "      <th></th>\n",
       "      <th>worker_count</th>\n",
       "      <th>run_time</th>\n",
       "      <th>total_steps</th>\n",
       "    </tr>\n",
       "  </thead>\n",
       "  <tbody>\n",
       "    <tr>\n",
       "      <th>0</th>\n",
       "      <td>1</td>\n",
       "      <td>555.535504</td>\n",
       "      <td>400</td>\n",
       "    </tr>\n",
       "    <tr>\n",
       "      <th>1</th>\n",
       "      <td>2</td>\n",
       "      <td>675.192083</td>\n",
       "      <td>800</td>\n",
       "    </tr>\n",
       "    <tr>\n",
       "      <th>2</th>\n",
       "      <td>3</td>\n",
       "      <td>703.719593</td>\n",
       "      <td>1200</td>\n",
       "    </tr>\n",
       "    <tr>\n",
       "      <th>3</th>\n",
       "      <td>4</td>\n",
       "      <td>740.246553</td>\n",
       "      <td>1600</td>\n",
       "    </tr>\n",
       "    <tr>\n",
       "      <th>4</th>\n",
       "      <td>5</td>\n",
       "      <td>937.910417</td>\n",
       "      <td>2000</td>\n",
       "    </tr>\n",
       "  </tbody>\n",
       "</table>\n",
       "</div>"
      ],
      "text/plain": [
       "   worker_count    run_time  total_steps\n",
       "0             1  555.535504          400\n",
       "1             2  675.192083          800\n",
       "2             3  703.719593         1200\n",
       "3             4  740.246553         1600\n",
       "4             5  937.910417         2000"
      ]
     },
     "execution_count": 3,
     "metadata": {},
     "output_type": "execute_result"
    }
   ],
   "source": [
    "results_df.head()"
   ]
  },
  {
   "cell_type": "code",
   "execution_count": 4,
   "id": "0f90dee3",
   "metadata": {},
   "outputs": [
    {
     "data": {
      "image/png": "[encoded data removed]",
      "text/plain": [
       "<Figure size 640x480 with 1 Axes>"
      ]
     },
     "metadata": {},
     "output_type": "display_data"
    }
   ],
   "source": [
    "results_df['step_rate'] = results_df['total_steps'] / results_df['run_time']\n",
    "\n",
    "plt.scatter(results_df['worker_count'], results_df['step_rate'])\n",
    "plt.xlabel('Number of Workers')\n",
    "plt.ylabel('Steps per Second')\n",
    "plt.title('GPU Worker Optimization')\n",
    "plt.grid(True)\n",
    "plt.show()"
   ]
  }
 ],
 "metadata": {
  "kernelspec": {
   "display_name": ".venv",
   "language": "python",
   "name": "python3"
  },
  "language_info": {
   "codemirror_mode": {
    "name": "ipython",
    "version": 3
   },
   "file_extension": ".py",
   "mimetype": "text/x-python",
   "name": "python",
   "nbconvert_exporter": "python",
   "pygments_lexer": "ipython3",
   "version": "3.8.10"
  }
 },
 "nbformat": 4,
 "nbformat_minor": 5
}
